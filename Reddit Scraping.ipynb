{
 "cells": [
  {
   "cell_type": "markdown",
   "metadata": {},
   "source": [
    "<h1> Board Games and Video Games:</h1>\n",
    "<h2>Understanding Language Differences</h2>\n",
    "<h4> Dan Tadmor | Data Scientist</h4>"
   ]
  },
  {
   "cell_type": "markdown",
   "metadata": {
    "focus": false,
    "id": "69b9a648-bcc7-490d-9f9b-ea244d156bd6"
   },
   "source": [
    "## Preface\n",
    "  \n",
    "This notebook goes through scraping the subreddits through creating models to predict the subreddits the posts came from.\n",
    "  \n",
    "You can view the presentation [here](https://youtu.be/02SRBiYCSG0)."
   ]
  },
  {
   "cell_type": "markdown",
   "metadata": {},
   "source": [
    "## Importing the libraries"
   ]
  },
  {
   "cell_type": "code",
   "execution_count": 112,
   "metadata": {},
   "outputs": [],
   "source": [
    "import requests\n",
    "import json\n",
    "import time\n",
    "import pandas as pd\n",
    "import regex as re\n",
    "from nltk import PorterStemmer\n",
    "from nltk.corpus import stopwords\n",
    "from sklearn.pipeline import Pipeline\n",
    "from sklearn.model_selection import GridSearchCV, train_test_split, cross_val_score\n",
    "from sklearn.linear_model import LogisticRegression\n",
    "from sklearn.ensemble import AdaBoostClassifier, BaggingClassifier, GradientBoostingClassifier, ExtraTreesClassifier, RandomForestClassifier\n",
    "from sklearn.feature_extraction.text import TfidfVectorizer, CountVectorizer\n",
    "from sklearn.neighbors import KNeighborsClassifier\n",
    "from sklearn.naive_bayes import GaussianNB\n",
    "import matplotlib.pyplot as plt"
   ]
  },
  {
   "cell_type": "markdown",
   "metadata": {},
   "source": [
    "## Scraping the subreddits"
   ]
  },
  {
   "cell_type": "code",
   "execution_count": 2,
   "metadata": {},
   "outputs": [],
   "source": [
    "def reddit_token_grabber(username, password, client_id, secret):\n",
    "    \n",
    "    # Get a token to use to scrape\n",
    "    client_auth = requests.auth.HTTPBasicAuth(client_id, secret)\n",
    "    post_data = {\"grant_type\": \"password\", \"username\": username, \"password\": password}\n",
    "    headers = {\"User-Agent\": username + \"Bot 0.1\"}\n",
    "    response = requests.post(\"https://www.reddit.com/api/v1/access_token\", auth=client_auth, data=post_data, headers=headers)\n",
    "    token = response.json()['access_token']\n",
    "    return token"
   ]
  },
  {
   "cell_type": "code",
   "execution_count": 3,
   "metadata": {},
   "outputs": [],
   "source": [
    "def subreddit_scraper(subreddit, username, password, client_id, secret, df, categories, sorter, n, t=''):\n",
    "\n",
    "    \n",
    "    # Set the index for the dataframe to save the results\n",
    "    df_index = df.shape[0] + 1\n",
    "    \n",
    "    # Create an id column if the dataframe is empty\n",
    "    if df.shape[0] == 0:\n",
    "        df['id'] = ''\n",
    "        \n",
    "    # Prepate to grab the information from the appropriate json\n",
    "    token = reddit_token_grabber(username, password, client_id, secret)\n",
    "    headers = {\"Authorization\": \"bearer \" + token, \"User-Agent\": username + \"Bot 0.1\"}\n",
    "    if sorter in ['controversial', 'top']:\n",
    "        url = \"http://oauth.reddit.com/r/{}/{}.json?t={}\".format(subreddit, sorter, t)\n",
    "    else:\n",
    "        url = \"http://oauth.reddit.com/r/{}/{}.json\".format(subreddit, sorter)\n",
    "    \n",
    "    # Scrape until while loop is done\n",
    "    for counter in range(n):\n",
    "        \n",
    "        # Get a bunch of subreddit posts and store them as data\n",
    "        result = requests.get(url, headers=headers)\n",
    "        data = result.json()['data']\n",
    "        \n",
    "        # For each entry in the json file, find the features we want and store it into a dataframe\n",
    "        for i in range(len(data['children'])):\n",
    "            if data['children'][i]['data']['id'] in df['id'].unique():\n",
    "                pass\n",
    "            else:\n",
    "                for category in categories:\n",
    "                    df.loc[df_index, category] = data['children'][i]['data'][category]\n",
    "        \n",
    "                # Also, get the main comments from the subreddit post\n",
    "                if data['children'][i]['data']['num_comments'] > 0:\n",
    "                    comments_url = 'http://oauth.reddit.com{}.json'.format(data['children'][i]['data']['permalink'])\n",
    "                    comments_result = requests.get(comments_url, headers=headers)\n",
    "                    comments_data = comments_result.json()[1]['data']['children']\n",
    "                    comments = ''\n",
    "                    for j in range(len(comments_data)):\n",
    "                        try:\n",
    "                            comments += comments_data[j]['data']['body']\n",
    "                        except:\n",
    "                            pass\n",
    "                    df.loc[df_index, 'comments'] = comments\n",
    "                else:\n",
    "                    df.loc[df_index, 'comments'] = ''\n",
    "\n",
    "                df_index += 1\n",
    "        \n",
    "        # Make updates and get ready to scrape again\n",
    "        if result.headers['X-Ratelimit-Remaining'] == 0:\n",
    "            print(\"Need to wait: {} seconds\".format(result.headers(['X-Ratelimit-Reset'])))\n",
    "            time.sleep(result.headers['X-Ratelimit-Reset'])\n",
    "        after = data['after']\n",
    "        if after == None:\n",
    "            break\n",
    "        if sorter in ['controversial', 'top']:\n",
    "            url = \"http://oauth.reddit.com/r/{}/{}.json?t={}&after={}\".format(subreddit, sorter, t, after)\n",
    "        else:\n",
    "            url = \"http://oauth.reddit.com/r/{}/{}.json?after={}\".format(subreddit, sorter, after)\n",
    "        \n",
    "        # Keep the user updated on the progress\n",
    "        if (counter + 1) % 10 == 0:\n",
    "            print(counter + 1, 'scrapes')\n",
    "\n",
    "        \n",
    "    return"
   ]
  },
  {
   "cell_type": "code",
   "execution_count": 4,
   "metadata": {},
   "outputs": [],
   "source": [
    "def subreddit_multi_scraper(subreddit, username, password, client_id, secret, df, categories, sort_list):\n",
    "\n",
    "    # Cycle through each sorting method and scrape the subreddit with that sort\n",
    "    for sorter in sort_list:\n",
    "        if sorter in ['controversial', 'top']:\n",
    "            for t in ['week', 'month', 'year', 'all']:\n",
    "                subreddit_scraper(subreddit=subreddit, username=username, password=password, client_id=client_id, \n",
    "                                  secret=secret, df=df, categories=categories, sorter=sorter, n=1000, t=t)\n",
    "                print(\"Completed scrape\", sorter, t)\n",
    "        else:\n",
    "            subreddit_scraper(subreddit=subreddit, username=username, password=password, client_id=client_id, \n",
    "                              secret=secret, df=df, categories=categories, sorter=sorter, n=1000)\n",
    "            print(\"Completed scrape\", sorter)\n",
    "    \n",
    "    return"
   ]
  },
  {
   "cell_type": "code",
   "execution_count": 54,
   "metadata": {},
   "outputs": [],
   "source": [
    "# Preparing to scrape\n",
    "board_game_df = pd.DataFrame()\n",
    "video_game_df = pd.DataFrame()\n",
    "categories = ['ups', 'downs', 'likes', 'num_reports', 'selftext', 'selftext_html', 'gilded', 'distinguished',\n",
    "              'over_18', 'num_comments', 'locked', 'score', 'title', 'stickied', 'id']\n",
    "sort_list = ['new', 'hot', 'top']"
   ]
  },
  {
   "cell_type": "code",
   "execution_count": 315,
   "metadata": {},
   "outputs": [
    {
     "name": "stdout",
     "output_type": "stream",
     "text": [
      "10 scrapes\n",
      "20 scrapes\n",
      "30 scrapes\n",
      "Completed scrape new\n",
      "10 scrapes\n",
      "20 scrapes\n",
      "30 scrapes\n",
      "Completed scrape hot\n",
      "10 scrapes\n",
      "Completed scrape top week\n",
      "10 scrapes\n",
      "20 scrapes\n",
      "30 scrapes\n",
      "40 scrapes\n",
      "Completed scrape top month\n",
      "10 scrapes\n",
      "20 scrapes\n",
      "30 scrapes\n",
      "40 scrapes\n",
      "Completed scrape top year\n",
      "10 scrapes\n",
      "20 scrapes\n",
      "30 scrapes\n",
      "Completed scrape top all\n"
     ]
    }
   ],
   "source": [
    "# Creating the boardgame dataframe\n",
    "subreddit_multi_scraper(subreddit='boardgames', username=username, password=password, client_id=client_id,\n",
    "                        secret=secret, df=board_game_df, categories=categories, sort_list=sort_list)"
   ]
  },
  {
   "cell_type": "code",
   "execution_count": 55,
   "metadata": {
    "scrolled": true
   },
   "outputs": [
    {
     "name": "stdout",
     "output_type": "stream",
     "text": [
      "10 scrapes\n",
      "20 scrapes\n",
      "30 scrapes\n",
      "Completed scrape new\n",
      "10 scrapes\n",
      "20 scrapes\n",
      "30 scrapes\n",
      "Completed scrape hot\n",
      "10 scrapes\n",
      "Completed scrape top week\n",
      "10 scrapes\n",
      "20 scrapes\n",
      "30 scrapes\n",
      "Completed scrape top month\n",
      "10 scrapes\n",
      "20 scrapes\n",
      "30 scrapes\n",
      "40 scrapes\n",
      "Completed scrape top year\n",
      "10 scrapes\n",
      "20 scrapes\n",
      "30 scrapes\n",
      "40 scrapes\n",
      "Completed scrape top all\n"
     ]
    }
   ],
   "source": [
    "# Creating the video game dataframe\n",
    "subreddit_multi_scraper(subreddit='videogames', username=username, password=password, client_id=client_id,\n",
    "                        secret=secret, df=video_game_df, categories=categories, sort_list=sort_list)"
   ]
  },
  {
   "cell_type": "code",
   "execution_count": 57,
   "metadata": {
    "focus": false,
    "id": "783fd153-28ac-47ab-bfca-27e7c1de95b4"
   },
   "outputs": [],
   "source": [
    "# Export to csv\n",
    "# board_game_df.to_csv('./data/board_games', index=False)\n",
    "# video_game_df.to_csv('./data/video_games', index=False)"
   ]
  },
  {
   "cell_type": "code",
   "execution_count": 64,
   "metadata": {},
   "outputs": [],
   "source": [
    "board_game_df = pd.read_csv('./data/board_games')\n",
    "video_game_df = pd.read_csv('./data/video_games')"
   ]
  },
  {
   "cell_type": "markdown",
   "metadata": {},
   "source": [
    "## Preparing the text to be ready for NLP methods"
   ]
  },
  {
   "cell_type": "code",
   "execution_count": 65,
   "metadata": {},
   "outputs": [],
   "source": [
    "def  text_prep(text):\n",
    "\n",
    "    # Remove the annoying '\\n's\n",
    "    text = re.sub(\"[^a-zA-Z]\", \" \", text)\n",
    "    # Making all the letters to lower case\n",
    "    words = text.lower().split()\n",
    "    # Use a stemmer to find the word stems\n",
    "    stem = PorterStemmer()\n",
    "    words = [stem.stem(word) for word in words]\n",
    "    # Remove the stop words\n",
    "    stop_words = set(stopwords.words('english'))\n",
    "    words = [word for word in words if word not in stop_words]\n",
    "    # return them back together to make a text\n",
    "    text = ' '.join(words)\n",
    "    \n",
    "    return text"
   ]
  },
  {
   "cell_type": "code",
   "execution_count": 66,
   "metadata": {},
   "outputs": [],
   "source": [
    "def doc_prep(df, columns):\n",
    "    \n",
    "    # Fill na columns with '' to be able to combine later\n",
    "    for column in columns:\n",
    "        df[column].fillna('', inplace=True)\n",
    "    \n",
    "    # Combine the columns with text into a new column\n",
    "    df['text'] = ''\n",
    "    for column in columns:\n",
    "        df[column] = df[column].map(text_prep)\n",
    "        df['text'] += df[column]"
   ]
  },
  {
   "cell_type": "code",
   "execution_count": 68,
   "metadata": {},
   "outputs": [],
   "source": [
    "# Preparing the dataframes to be combined prior to creating the model\n",
    "columns = ['selftext', 'title', 'comments']\n",
    "doc_prep(board_game_df, columns)\n",
    "doc_prep(video_game_df, columns)\n",
    "board_game_df['subreddit'] = 'boardgames'\n",
    "video_game_df['subreddit'] = 'videogames'"
   ]
  },
  {
   "cell_type": "code",
   "execution_count": 69,
   "metadata": {},
   "outputs": [],
   "source": [
    "# Creating the X and y from the combined data frame\n",
    "features = ['num_comments', 'score', 'text', 'subreddit']\n",
    "df = pd.concat([board_game_df, video_game_df], axis=0, ignore_index=True)[features]\n",
    "X = df[['num_comments', 'score', 'text']]\n",
    "y = df['subreddit'].map(lambda x: 1 if x=='boardgames' else 0)"
   ]
  },
  {
   "cell_type": "code",
   "execution_count": 144,
   "metadata": {},
   "outputs": [
    {
     "data": {
      "text/plain": [
       "((2795, 18), (2548, 18))"
      ]
     },
     "execution_count": 144,
     "metadata": {},
     "output_type": "execute_result"
    }
   ],
   "source": [
    "board_game_df.shape, video_game_df.shape"
   ]
  },
  {
   "cell_type": "markdown",
   "metadata": {},
   "source": [
    "## Exploring the training data"
   ]
  },
  {
   "cell_type": "code",
   "execution_count": 70,
   "metadata": {},
   "outputs": [],
   "source": [
    "# Creating the training and testing data and stratifying them\n",
    "X_train, X_test, y_train, y_test = train_test_split(X, y, stratify=y, random_state=42)"
   ]
  },
  {
   "cell_type": "code",
   "execution_count": 71,
   "metadata": {},
   "outputs": [],
   "source": [
    "# Vectorizing the training data\n",
    "X_train = pd.DataFrame(X_train, columns=X.columns)\n",
    "bigram_vect = CountVectorizer(ngram_range=(1, 2), min_df=5)\n",
    "X_train_vect = pd.DataFrame(bigram_vect.fit_transform(X_train['text']).todense(), index=X_train.index,\n",
    "                            columns=bigram_vect.get_feature_names())"
   ]
  },
  {
   "cell_type": "code",
   "execution_count": 72,
   "metadata": {},
   "outputs": [],
   "source": [
    "# Looking at important words/bigrams from board games and video games\n",
    "bg_bigrams = X_train_vect.reindex(y_train[y_train==1].index)\n",
    "common_bg = bg_bigrams.mean().sort_values(ascending=False)\n",
    "vg_bigrams = X_train_vect.reindex(y_train[y_train==0].index)\n",
    "common_vg = vg_bigrams.mean().sort_values(ascending=False)"
   ]
  },
  {
   "cell_type": "code",
   "execution_count": 73,
   "metadata": {},
   "outputs": [
    {
     "data": {
      "text/plain": [
       "game      31.263836\n",
       "play      13.186546\n",
       "thi       11.872615\n",
       "like       7.928435\n",
       "wa         6.459447\n",
       "get        6.178435\n",
       "one        5.866412\n",
       "time       4.641221\n",
       "card       4.420324\n",
       "player     4.397424\n",
       "board      4.262882\n",
       "peopl      4.187977\n",
       "realli     4.079676\n",
       "would      3.793416\n",
       "make       3.747137\n",
       "go         3.598760\n",
       "ha         3.541985\n",
       "think      3.322042\n",
       "http       3.302481\n",
       "com        3.221851\n",
       "dtype: float64"
      ]
     },
     "execution_count": 73,
     "metadata": {},
     "output_type": "execute_result"
    }
   ],
   "source": [
    "common_bg.head(n=20)"
   ]
  },
  {
   "cell_type": "code",
   "execution_count": 74,
   "metadata": {},
   "outputs": [
    {
     "data": {
      "text/plain": [
       "game          1.250654\n",
       "thi           0.392465\n",
       "play          0.366824\n",
       "wa            0.274202\n",
       "like          0.272632\n",
       "video         0.254317\n",
       "http          0.249084\n",
       "one           0.209838\n",
       "get           0.201465\n",
       "com           0.192569\n",
       "news          0.183673\n",
       "video game    0.182104\n",
       "save          0.138671\n",
       "would         0.137101\n",
       "time          0.128205\n",
       "www           0.127159\n",
       "look          0.125065\n",
       "ps            0.123496\n",
       "http www      0.120356\n",
       "help          0.119309\n",
       "dtype: float64"
      ]
     },
     "execution_count": 74,
     "metadata": {},
     "output_type": "execute_result"
    }
   ],
   "source": [
    "common_vg.head(n=20)"
   ]
  },
  {
   "cell_type": "markdown",
   "metadata": {},
   "source": [
    "## Finding the best models"
   ]
  },
  {
   "cell_type": "code",
   "execution_count": 75,
   "metadata": {},
   "outputs": [],
   "source": [
    "# Use a tfidf vectorizer on the text of the data ######REDO FROM HERE USING BIGRAMS!!!!\n",
    "tfidf = TfidfVectorizer(ngram_range=(1, 2), min_df=5)\n",
    "X_train = pd.DataFrame(X_train, columns=X.columns)\n",
    "X_train_vect = pd.DataFrame(tfidf.fit_transform(X_train['text']).todense(), columns=tfidf.get_feature_names(),\n",
    "                            index=X_train.index)\n",
    "X_test_vect = pd.DataFrame(tfidf.transform(X_test['text']).todense(), columns=tfidf.get_feature_names(),\n",
    "                           index=X_test.index)"
   ]
  },
  {
   "cell_type": "code",
   "execution_count": 76,
   "metadata": {},
   "outputs": [],
   "source": [
    "def model_search(X, y, model_dict):\n",
    "    \n",
    "    # Instantiate a dictionary that we will fill with the best solutions\n",
    "    solution_dict = {}\n",
    "    \n",
    "    # Gridsearch to find the best version of each model given the hyperparameters\n",
    "    for model, grid_params in model_dict.items():\n",
    "        model = model()\n",
    "        gs = GridSearchCV(model, grid_params, verbose=2, cv=5)\n",
    "        results = gs.fit(X, y)\n",
    "        best_estimator = results.best_estimator_\n",
    "        best_score = results.best_score_\n",
    "        solution_dict[best_score] = best_estimator\n",
    "        print(best_score)\n",
    "    \n",
    "    return solution_dict"
   ]
  },
  {
   "cell_type": "code",
   "execution_count": 77,
   "metadata": {},
   "outputs": [],
   "source": [
    "# The hyperparameters and models to go in the function\n",
    "model_dict = {\n",
    "    RandomForestClassifier: {'max_depth': [10, 20, 30, 40, 50], 'min_samples_split': [2, 5, 10]},\n",
    "    ExtraTreesClassifier: {'max_depth': [10, 20, 30, 40, 50], 'min_samples_split': [2, 5, 10]},\n",
    "    LogisticRegression: {'C': [0.1, 0.5, 1, 5, 10, 50, 100]},\n",
    "    GaussianNB: {},\n",
    "    BaggingClassifier: {'n_estimators': range(8,13)},\n",
    "    AdaBoostClassifier: {'n_estimators': [45, 50, 55], 'learning_rate': [.8, .9, 1]},\n",
    "}"
   ]
  },
  {
   "cell_type": "code",
   "execution_count": 1,
   "metadata": {},
   "outputs": [],
   "source": [
    "# Finding the best model\n",
    "solution_dict = model_search(X_train_vect, y_train, model_dict)"
   ]
  },
  {
   "cell_type": "code",
   "execution_count": 88,
   "metadata": {},
   "outputs": [
    {
     "data": {
      "text/plain": [
       "{0.9416021961567257: RandomForestClassifier(bootstrap=True, class_weight=None, criterion='gini',\n",
       "             max_depth=40, max_features='auto', max_leaf_nodes=None,\n",
       "             min_impurity_decrease=0.0, min_impurity_split=None,\n",
       "             min_samples_leaf=1, min_samples_split=10,\n",
       "             min_weight_fraction_leaf=0.0, n_estimators=10, n_jobs=1,\n",
       "             oob_score=False, random_state=None, verbose=0,\n",
       "             warm_start=False),\n",
       " 0.9396056900424258: ExtraTreesClassifier(bootstrap=False, class_weight=None, criterion='gini',\n",
       "            max_depth=50, max_features='auto', max_leaf_nodes=None,\n",
       "            min_impurity_decrease=0.0, min_impurity_split=None,\n",
       "            min_samples_leaf=1, min_samples_split=10,\n",
       "            min_weight_fraction_leaf=0.0, n_estimators=10, n_jobs=1,\n",
       "            oob_score=False, random_state=None, verbose=0, warm_start=False),\n",
       " 0.9742949837783879: LogisticRegression(C=100, class_weight=None, dual=False, fit_intercept=True,\n",
       "           intercept_scaling=1, max_iter=100, multi_class='ovr', n_jobs=1,\n",
       "           penalty='l2', random_state=None, solver='liblinear', tol=0.0001,\n",
       "           verbose=0, warm_start=False),\n",
       " 0.7259795358123284: GaussianNB(priors=None),\n",
       " 0.9615672572997255: BaggingClassifier(base_estimator=None, bootstrap=True,\n",
       "          bootstrap_features=False, max_features=1.0, max_samples=1.0,\n",
       "          n_estimators=11, n_jobs=1, oob_score=False, random_state=None,\n",
       "          verbose=0, warm_start=False),\n",
       " 0.966808085849763: AdaBoostClassifier(algorithm='SAMME.R', base_estimator=None,\n",
       "           learning_rate=0.8, n_estimators=55, random_state=None)}"
      ]
     },
     "execution_count": 88,
     "metadata": {},
     "output_type": "execute_result"
    }
   ],
   "source": [
    "# Looking at the hyperparameters that worked best in each model\n",
    "solution_dict"
   ]
  },
  {
   "cell_type": "code",
   "execution_count": 100,
   "metadata": {},
   "outputs": [],
   "source": [
    "keys = [key for key in solution_dict.keys()]\n",
    "values = [value for value in solution_dict.values()]"
   ]
  },
  {
   "cell_type": "code",
   "execution_count": 102,
   "metadata": {},
   "outputs": [],
   "source": [
    "pd.DataFrame({'score':keys, 'model':values}, columns=['score', 'model']).to_csv('./data/models.csv', index=False)"
   ]
  },
  {
   "cell_type": "code",
   "execution_count": 104,
   "metadata": {},
   "outputs": [],
   "source": [
    "# Seeing the distribution of scores for the logistic regression\n",
    "log = LogisticRegression(C=100)\n",
    "scores = cross_val_score(log, X_train_vect, y_train, cv=5)"
   ]
  },
  {
   "cell_type": "code",
   "execution_count": 105,
   "metadata": {
    "scrolled": false
   },
   "outputs": [
    {
     "data": {
      "text/plain": [
       "array([0.97882939, 0.97378277, 0.98252185, 0.97253433, 0.96379526])"
      ]
     },
     "execution_count": 105,
     "metadata": {},
     "output_type": "execute_result"
    }
   ],
   "source": [
    "scores"
   ]
  },
  {
   "cell_type": "code",
   "execution_count": 110,
   "metadata": {},
   "outputs": [],
   "source": [
    "# Finding the features that worked that best\n",
    "log.fit(X_train_vect, y_train)\n",
    "features_strength = zip(X_train_vect.columns, log.coef_[0]);"
   ]
  },
  {
   "cell_type": "code",
   "execution_count": 2,
   "metadata": {
    "scrolled": true
   },
   "outputs": [],
   "source": [
    "sorted(features_strength, key=lambda x: abs(x[1]), reverse=True)"
   ]
  },
  {
   "cell_type": "code",
   "execution_count": 131,
   "metadata": {},
   "outputs": [
    {
     "data": {
      "text/plain": [
       "0.9805389221556886"
      ]
     },
     "execution_count": 131,
     "metadata": {},
     "output_type": "execute_result"
    }
   ],
   "source": [
    "log.score(X_test_vect, y_test)"
   ]
  },
  {
   "cell_type": "markdown",
   "metadata": {},
   "source": [
    "## Analyzing the best features of the models"
   ]
  },
  {
   "cell_type": "code",
   "execution_count": 134,
   "metadata": {},
   "outputs": [
    {
     "data": {
      "text/plain": [
       "(['board',\n",
       "  'card',\n",
       "  'board game',\n",
       "  'rule',\n",
       "  'boardgam',\n",
       "  'expans',\n",
       "  'player',\n",
       "  'dice',\n",
       "  'bgg',\n",
       "  'use'],\n",
       " [17.7, 13.3, 11.9, 11.0, 9.6, 8.9, 8.1, 8.0, 7.6, 7.4])"
      ]
     },
     "execution_count": 134,
     "metadata": {},
     "output_type": "execute_result"
    }
   ],
   "source": [
    "bg_term_pairs = [('board', 17.65401645968029), ('card', 13.262215962014876), ('board game', 11.912468401819492),\n",
    "            ('rule', 11.010391513478275), ('boardgam', 9.575882464611974), ('expans', 8.901116240408992),\n",
    "            ('player', 8.083453777058084), ('dice', 7.964358567647517), ('bgg', 7.643260585339633),\n",
    "            ('use', 7.373876022128463)]\n",
    "\n",
    "bg_terms = []\n",
    "bg_scores = []\n",
    "for term, score in bg_term_pairs:\n",
    "    bg_terms.append(term)\n",
    "    bg_scores.append(round(score, 1))\n",
    "    \n",
    "bg_terms, bg_scores"
   ]
  },
  {
   "cell_type": "code",
   "execution_count": 135,
   "metadata": {},
   "outputs": [
    {
     "data": {
      "text/plain": [
       "(['video game',\n",
       "  'ps',\n",
       "  'xbox',\n",
       "  'ea',\n",
       "  'videogam',\n",
       "  'trailer',\n",
       "  'ne',\n",
       "  'fortnit',\n",
       "  'consol',\n",
       "  'fallout'],\n",
       " [9.1, 7.3, 6.2, 5.2, 5.2, 4.9, 4.7, 4.4, 4.3, 4.2])"
      ]
     },
     "execution_count": 135,
     "metadata": {},
     "output_type": "execute_result"
    }
   ],
   "source": [
    "vg_term_pairs = [('video game', -9.093175091024063), ('ps', -7.26959009132613), ('xbox', -6.164335281031871),\n",
    "            ('ea', -5.224697383058169), ('videogam', -5.203417081099361), ('trailer', -4.905924337555201),\n",
    "            ('ne', -4.663821402672478), ('fortnit', -4.400659777205129), ('consol', -4.31996557016132),\n",
    "            ('fallout', -4.2141026046782635)]\n",
    "\n",
    "vg_terms = []\n",
    "vg_scores = []\n",
    "for term, score in vg_term_pairs:\n",
    "    vg_terms.append(term)\n",
    "    vg_scores.append(round(abs(score), 1))\n",
    "    \n",
    "vg_terms, vg_scores"
   ]
  },
  {
   "cell_type": "code",
   "execution_count": 141,
   "metadata": {},
   "outputs": [
    {
     "data": {
      "image/png": "[encoded data removed]",
      "text/plain": [
       "<Figure size 864x288 with 2 Axes>"
      ]
     },
     "metadata": {},
     "output_type": "display_data"
    }
   ],
   "source": [
    "plt.subplots(figsize=(12, 4))\n",
    "plt.subplot(121)\n",
    "plt.barh(bg_terms, bg_scores)\n",
    "plt.title('Board Game Terms')\n",
    "plt.subplot(122)\n",
    "plt.barh(vg_terms, vg_scores)\n",
    "plt.title('Video Game Terms')\n",
    "plt.subplots_adjust(wspace=.4);"
   ]
  },
  {
   "cell_type": "markdown",
   "metadata": {},
   "source": [
    "## Executive Summary\n",
    "\n",
    "We may often hear of the term gamer, but what does that mean? The goal of this project was to better understand the board gaming and video gaming communities by determining the differences in their word choice. We were looking for differences in three categories: words relating directly to the product, words representing the interaction with the product, and words related to the interaction between people. We used a logistic regression which was 98% accurate on the testing data. Based on the model, the most important terms were usually related to the product itself (board game, xbox, etc.). Some of the most important terms were in how people actually interacted with the product (trailer, rules, expansions, etc.). None of the most important terms related to how people interacted with each other. In the future, we would like to pursue analyzing which words are the best predictors of scores in corresponding subredddits. This should give us a better sense of how people interact with each other."
   ]
  }
 ],
 "metadata": {
  "anaconda-cloud": {},
  "kernelspec": {
   "display_name": "Python [default]",
   "language": "python",
   "name": "python3"
  },
  "language_info": {
   "codemirror_mode": {
    "name": "ipython",
    "version": 3
   },
   "file_extension": ".py",
   "mimetype": "text/x-python",
   "name": "python",
   "nbconvert_exporter": "python",
   "pygments_lexer": "ipython3",
   "version": "3.6.5"
  },
  "varInspector": {
   "cols": {
    "lenName": 16,
    "lenType": 16,
    "lenVar": 40
   },
   "kernels_config": {
    "python": {
     "delete_cmd_postfix": "",
     "delete_cmd_prefix": "del ",
     "library": "var_list.py",
     "varRefreshCmd": "print(var_dic_list())"
    },
    "r": {
     "delete_cmd_postfix": ") ",
     "delete_cmd_prefix": "rm(",
     "library": "var_list.r",
     "varRefreshCmd": "cat(var_dic_list()) "
    }
   },
   "types_to_exclude": [
    "module",
    "function",
    "builtin_function_or_method",
    "instance",
    "_Feature"
   ],
   "window_display": false
  }
 },
 "nbformat": 4,
 "nbformat_minor": 1
}
