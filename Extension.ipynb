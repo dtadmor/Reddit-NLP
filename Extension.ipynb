{
 "cells": [
  {
   "cell_type": "markdown",
   "metadata": {},
   "source": [
    "<h1> Board Games and Video Games Extension:</h1>\n",
    "<h2>Looking Deeper into the Language</h2>\n",
    "<h4> Dan Tadmor | Data Scientist</h4>"
   ]
  },
  {
   "cell_type": "markdown",
   "metadata": {},
   "source": [
    "## Preface\n",
    "\n",
    "The purpose of this notebook is to look more deeply into the languages of the subreddits and understand how people interact with each other in the different communities."
   ]
  },
  {
   "cell_type": "markdown",
   "metadata": {},
   "source": [
    "## Load the libraries"
   ]
  },
  {
   "cell_type": "code",
   "execution_count": 350,
   "metadata": {},
   "outputs": [],
   "source": [
    "import requests\n",
    "import json\n",
    "import time\n",
    "import pandas as pd\n",
    "import regex as re\n",
    "import matplotlib.pyplot as plt\n",
    "import numpy as np\n",
    "from nltk import PorterStemmer\n",
    "from nltk.corpus import stopwords\n",
    "from sklearn.pipeline import Pipeline\n",
    "from sklearn.model_selection import GridSearchCV, train_test_split, cross_val_score\n",
    "from sklearn.linear_model import LogisticRegression\n",
    "from sklearn.ensemble import AdaBoostClassifier, BaggingClassifier, GradientBoostingClassifier, ExtraTreesClassifier, RandomForestClassifier\n",
    "from sklearn.feature_extraction.text import TfidfVectorizer, CountVectorizer\n",
    "from sklearn.neighbors import KNeighborsClassifier\n",
    "from sklearn.naive_bayes import GaussianNB"
   ]
  },
  {
   "cell_type": "markdown",
   "metadata": {},
   "source": [
    "## Load the data"
   ]
  },
  {
   "cell_type": "code",
   "execution_count": 351,
   "metadata": {},
   "outputs": [],
   "source": [
    "board_games = pd.read_csv('./data/board_games')\n",
    "video_games = pd.read_csv('./data/video_games')"
   ]
  },
  {
   "cell_type": "markdown",
   "metadata": {},
   "source": [
    "## Find out how to split the data"
   ]
  },
  {
   "cell_type": "code",
   "execution_count": 407,
   "metadata": {
    "scrolled": true
   },
   "outputs": [
    {
     "data": {
      "image/png": "[encoded data removed]",
      "text/plain": [
       "<Figure size 720x288 with 2 Axes>"
      ]
     },
     "metadata": {},
     "output_type": "display_data"
    }
   ],
   "source": [
    "plt.subplots(figsize=(10,4))\n",
    "plt.subplot(121)\n",
    "plt.hist(board_games['score'], bins=1500)\n",
    "plt.xlim(0,500)\n",
    "plt.title('Board Game Scores')\n",
    "plt.subplot(122)\n",
    "plt.hist(video_games['score'], bins=50)\n",
    "plt.xlim(0,50)\n",
    "plt.title('Video Game Scores');"
   ]
  },
  {
   "cell_type": "code",
   "execution_count": 360,
   "metadata": {},
   "outputs": [],
   "source": [
    "def group_finder(data, n_groups):\n",
    "    \n",
    "    # Prepare the data \n",
    "    sorted_data = sorted(data)\n",
    "    max_bin_size = len(data)\n",
    "    solutions = []\n",
    "    \n",
    "    # Iterate over different bin sizes to find the best size\n",
    "    for n_bins in np.logspace(np.log10(n_groups), np.log10(max_bin_size), 50):\n",
    "        \n",
    "        bin_frequencies, bins = np.histogram(data, int(n_bins))\n",
    "        start_points = []\n",
    "        previous_frequency = 0\n",
    "        jump_list = [0] * n_groups\n",
    "        bins_list = [0] * n_groups\n",
    "        \n",
    "        # For each bin, check if the frequency \"jump\" is high enough to use it as a cutoff\n",
    "        for bin_x, current_frequency in zip(bins, bin_frequencies):\n",
    "            \n",
    "            jump = (current_frequency - previous_frequency) * (current_frequency/(previous_frequency + 1))\n",
    "            for i, jump_i in enumerate(jump_list):\n",
    "            \n",
    "                # If the jump is big enough, fix the jump and bins list\n",
    "                if jump > jump_i:\n",
    "                    jump_list.insert(i, jump)\n",
    "                    jump_list.pop(-1)\n",
    "                    bins_list.insert(i, bin_x)\n",
    "                    bins_list.pop(-1)\n",
    "                    break\n",
    "                    \n",
    "            # Update the previous frequency\n",
    "            previous_frequency = current_frequency\n",
    "        \n",
    "        # Add the solutions to the list\n",
    "        solutions.append([jump_list, bins_list])\n",
    "    \n",
    "    # Sort the solutions to have the solution with the highest minimum jump\n",
    "    sorted_solutions = sorted(solutions, key=lambda x: min(x[0]), reverse=True)\n",
    "    \n",
    "    return sorted(sorted_solutions[0][1])"
   ]
  },
  {
   "cell_type": "code",
   "execution_count": 361,
   "metadata": {},
   "outputs": [],
   "source": [
    "board_game_splits = group_finder(board_games['score'], 3)"
   ]
  },
  {
   "cell_type": "code",
   "execution_count": 362,
   "metadata": {},
   "outputs": [],
   "source": [
    "video_game_splits = group_finder(video_games['score'], 3)"
   ]
  },
  {
   "cell_type": "code",
   "execution_count": 363,
   "metadata": {},
   "outputs": [
    {
     "data": {
      "text/plain": [
       "([0.0, 156.98311444652907, 372.83489681050656],\n",
       " [0.0, 0.9102167182662538, 6.826625386996904])"
      ]
     },
     "execution_count": 363,
     "metadata": {},
     "output_type": "execute_result"
    }
   ],
   "source": [
    "board_game_splits, video_game_splits"
   ]
  },
  {
   "cell_type": "markdown",
   "metadata": {},
   "source": [
    "## Preparing the data for the models"
   ]
  },
  {
   "cell_type": "code",
   "execution_count": 364,
   "metadata": {},
   "outputs": [],
   "source": [
    "def subreddit_score_simplifier(score, splits):\n",
    "    \n",
    "    # Given a score, it will determine what bucket it belongs in\n",
    "    for i in range(len(splits)-1, -1, -1):\n",
    "        if score >= splits[i]:\n",
    "            return i"
   ]
  },
  {
   "cell_type": "code",
   "execution_count": 365,
   "metadata": {},
   "outputs": [],
   "source": [
    "# Creating a new column for each dataframe with the bucketed scores\n",
    "board_games['score_group'] = board_games['score'].apply(subreddit_score_simplifier, args=(board_game_splits,))\n",
    "video_games['score_group'] = video_games['score'].apply(subreddit_score_simplifier, args=(video_game_splits,))"
   ]
  },
  {
   "cell_type": "code",
   "execution_count": 367,
   "metadata": {},
   "outputs": [
    {
     "data": {
      "text/plain": [
       "0    1217\n",
       "2     990\n",
       "1     588\n",
       "Name: score_group, dtype: int64"
      ]
     },
     "execution_count": 367,
     "metadata": {},
     "output_type": "execute_result"
    }
   ],
   "source": [
    "# Double checking that the scores worked and seeing the distribution\n",
    "board_games['score_group'].value_counts()"
   ]
  },
  {
   "cell_type": "code",
   "execution_count": 371,
   "metadata": {},
   "outputs": [
    {
     "data": {
      "text/plain": [
       "0"
      ]
     },
     "execution_count": 371,
     "metadata": {},
     "output_type": "execute_result"
    }
   ],
   "source": [
    "board_games['score_group'].isna().sum()"
   ]
  },
  {
   "cell_type": "code",
   "execution_count": 374,
   "metadata": {},
   "outputs": [
    {
     "data": {
      "text/plain": [
       "1    1272\n",
       "2     976\n",
       "0     300\n",
       "Name: score_group, dtype: int64"
      ]
     },
     "execution_count": 374,
     "metadata": {},
     "output_type": "execute_result"
    }
   ],
   "source": [
    "video_games['score_group'].value_counts()"
   ]
  },
  {
   "cell_type": "code",
   "execution_count": 375,
   "metadata": {},
   "outputs": [
    {
     "data": {
      "text/plain": [
       "0"
      ]
     },
     "execution_count": 375,
     "metadata": {},
     "output_type": "execute_result"
    }
   ],
   "source": [
    "video_games['score_group'].isna().sum()"
   ]
  },
  {
   "cell_type": "code",
   "execution_count": 376,
   "metadata": {},
   "outputs": [],
   "source": [
    "def  text_prep(text):\n",
    "\n",
    "    # Remove the annoying '\\n's\n",
    "    text = re.sub(\"[^a-zA-Z]\", \" \", text)\n",
    "    # Making all the letters to lower case\n",
    "    words = text.lower().split()\n",
    "    # Use a stemmer to find the word stems\n",
    "    stem = PorterStemmer()\n",
    "    words = [stem.stem(word) for word in words]\n",
    "    # Remove the stop words\n",
    "    stop_words = set(stopwords.words('english'))\n",
    "    words = [word for word in words if word not in stop_words]\n",
    "    # return them back together to make a text\n",
    "    text = ' '.join(words)\n",
    "    \n",
    "    return text"
   ]
  },
  {
   "cell_type": "code",
   "execution_count": 377,
   "metadata": {},
   "outputs": [],
   "source": [
    "def doc_prep(df, columns):\n",
    "    \n",
    "    # Fill na columns with '' to prepare for NLP\n",
    "    for column in columns:\n",
    "        df[column].fillna('', inplace=True)\n",
    "    \n",
    "    # Clean all of the columns\n",
    "    for column in columns:\n",
    "        df[column] = df[column].map(text_prep)"
   ]
  },
  {
   "cell_type": "code",
   "execution_count": 378,
   "metadata": {},
   "outputs": [],
   "source": [
    "# Preparing the text columns to be used for NLP models\n",
    "columns = ['title', 'selftext', 'comments']\n",
    "doc_prep(board_games, columns)\n",
    "doc_prep(video_games, columns)"
   ]
  },
  {
   "cell_type": "markdown",
   "metadata": {},
   "source": [
    "## Create models to predict the scoring bucket"
   ]
  },
  {
   "cell_type": "code",
   "execution_count": 382,
   "metadata": {},
   "outputs": [],
   "source": [
    "# Creating the X and y dataframes for the models\n",
    "X_bg, y_bg = board_games[columns], board_games['score_group']\n",
    "X_vg, y_vg = video_games[columns], video_games['score_group']"
   ]
  },
  {
   "cell_type": "code",
   "execution_count": 383,
   "metadata": {},
   "outputs": [],
   "source": [
    "# Splitting the data into training and testing sets\n",
    "X_bg_train, X_bg_test, y_bg_train, y_bg_test = train_test_split(X_bg, y_bg, stratify=y_bg, random_state=42)\n",
    "X_vg_train, X_vg_test, y_vg_train, y_vg_test = train_test_split(X_vg, y_vg, stratify=y_vg, random_state=42)\n",
    "X_bg_train = pd.DataFrame(X_bg_train, columns=columns)\n",
    "X_vg_train = pd.DataFrame(X_vg_train, columns=columns)"
   ]
  },
  {
   "cell_type": "markdown",
   "metadata": {},
   "source": [
    "#### Predicting scores with titles"
   ]
  },
  {
   "cell_type": "code",
   "execution_count": 384,
   "metadata": {},
   "outputs": [],
   "source": [
    "# Preparing the pipeline and gridsearch\n",
    "steps = [\n",
    "    ('tfidf', TfidfVectorizer(ngram_range=(1,2), min_df=2)),\n",
    "    ('log', LogisticRegression(multi_class='multinomial', solver='lbfgs'))\n",
    "]\n",
    "\n",
    "pipeline = Pipeline(steps=steps)\n",
    "\n",
    "grid_params = {\n",
    "    'log__C': [0.1, 0.5, 1, 5, 10, 50, 100]\n",
    "}"
   ]
  },
  {
   "cell_type": "code",
   "execution_count": 385,
   "metadata": {
    "scrolled": true
   },
   "outputs": [
    {
     "name": "stdout",
     "output_type": "stream",
     "text": [
      "Fitting 5 folds for each of 7 candidates, totalling 35 fits\n"
     ]
    },
    {
     "name": "stderr",
     "output_type": "stream",
     "text": [
      "[Parallel(n_jobs=1)]: Done  35 out of  35 | elapsed:    6.1s finished\n"
     ]
    },
    {
     "name": "stdout",
     "output_type": "stream",
     "text": [
      "0.5596374045801527\n",
      "Fitting 5 folds for each of 7 candidates, totalling 35 fits\n",
      "0.587650444793302\n"
     ]
    },
    {
     "name": "stderr",
     "output_type": "stream",
     "text": [
      "[Parallel(n_jobs=1)]: Done  35 out of  35 | elapsed:    4.9s finished\n"
     ]
    }
   ],
   "source": [
    "# Searching over the pipeline\n",
    "gs = GridSearchCV(pipeline, grid_params, verbose=1, cv=5)\n",
    "bg_results = gs.fit(X_bg_train['title'], y_bg_train)\n",
    "print(bg_results.best_score_)\n",
    "vg_results = gs.fit(X_vg_train['title'], y_vg_train)\n",
    "print(vg_results.best_score_)"
   ]
  },
  {
   "cell_type": "code",
   "execution_count": 386,
   "metadata": {},
   "outputs": [
    {
     "data": {
      "text/plain": [
       "({'log__C': 0.5}, {'log__C': 0.5})"
      ]
     },
     "execution_count": 386,
     "metadata": {},
     "output_type": "execute_result"
    }
   ],
   "source": [
    "bg_results.best_params_, vg_results.best_params_"
   ]
  },
  {
   "cell_type": "code",
   "execution_count": 411,
   "metadata": {},
   "outputs": [
    {
     "name": "stdout",
     "output_type": "stream",
     "text": [
      "Board Game Title Score 0.5650929899856938\n"
     ]
    }
   ],
   "source": [
    "# Model using the title of the board game posts\n",
    "tfidf = TfidfVectorizer(ngram_range=(1, 2), min_df=1)\n",
    "X_bg_train_vect = pd.DataFrame(tfidf.fit_transform(X_bg_train['title']).todense(), columns=tfidf.get_feature_names(),\n",
    "                               index=X_bg_train.index)\n",
    "X_bg_test_vect = pd.DataFrame(tfidf.transform(X_bg_test['title']).todense(), columns=tfidf.get_feature_names(),\n",
    "                              index=X_bg_test.index)\n",
    "\n",
    "log = LogisticRegression(C=.5, multi_class='multinomial', solver='lbfgs')\n",
    "log.fit(X_bg_train_vect, y_bg_train)\n",
    "print(\"Board Game Title Score\", log.score(X_bg_test_vect, y_bg_test))"
   ]
  },
  {
   "cell_type": "code",
   "execution_count": 432,
   "metadata": {},
   "outputs": [
    {
     "name": "stdout",
     "output_type": "stream",
     "text": [
      "Board Game Title to Score Predictors\n"
     ]
    },
    {
     "data": {
      "text/plain": [
       "[('amaz wish', -0.2904257595616866),\n",
       " ('adventur also', -0.2854936267430652),\n",
       " ('amp good', -0.24823294960660597),\n",
       " ('also includ', -0.19756182388279828),\n",
       " ('allur', -0.19745195146128525),\n",
       " ('age board', -0.1365101358108829),\n",
       " ('aggress', -0.1336829690431238),\n",
       " ('also seen', -0.1332893952307092),\n",
       " ('agreement', -0.12723128595826685),\n",
       " ('action take', -0.12441654130809542),\n",
       " ('almost none', -0.12105096966269653),\n",
       " ('also close', -0.11694487446881702),\n",
       " ('also offer', -0.11011948854658835),\n",
       " ('amazon http', -0.10930478490257456),\n",
       " ('actual care', -0.0963341831145998),\n",
       " ('almost got', -0.09218571441498274),\n",
       " ('amp utm', 0.09137461162394278),\n",
       " ('advanc civil', -0.0895560142580608),\n",
       " ('alreadi think', -0.085502691727868),\n",
       " ('amp ved', -0.08501338070393681)]"
      ]
     },
     "execution_count": 432,
     "metadata": {},
     "output_type": "execute_result"
    }
   ],
   "source": [
    "# Printing the best features and their strength\n",
    "features_strength = zip(X_bg_train_vect.columns, log.coef_[0]);\n",
    "print('Board Game Title to Score Predictors')\n",
    "sorted(features_strength, key=lambda x: abs(x[1]), reverse=True)[:20]"
   ]
  },
  {
   "cell_type": "code",
   "execution_count": 416,
   "metadata": {},
   "outputs": [
    {
     "name": "stdout",
     "output_type": "stream",
     "text": [
      "Video Game Title Score 0.576138147566719\n"
     ]
    }
   ],
   "source": [
    "# Model using the title of the video game posts\n",
    "tfidf = TfidfVectorizer(ngram_range=(1, 2), min_df=1)\n",
    "X_vg_train_vect = pd.DataFrame(tfidf.fit_transform(X_vg_train['title']).todense(), columns=tfidf.get_feature_names(),\n",
    "                               index=X_vg_train.index)\n",
    "X_vg_test_vect = pd.DataFrame(tfidf.transform(X_vg_test['title']).todense(), columns=tfidf.get_feature_names(),\n",
    "                              index=X_vg_test.index)\n",
    "\n",
    "log = LogisticRegression(C=.5, multi_class='multinomial', solver='lbfgs')\n",
    "log.fit(X_vg_train_vect, y_vg_train)\n",
    "print(\"Video Game Title Score\", log.score(X_vg_test_vect, y_vg_test))"
   ]
  },
  {
   "cell_type": "code",
   "execution_count": 431,
   "metadata": {},
   "outputs": [
    {
     "name": "stdout",
     "output_type": "stream",
     "text": [
      "Video Game Title to Score Predictors\n"
     ]
    },
    {
     "data": {
      "text/plain": [
       "[('thi', -0.2904257595616866),\n",
       " ('game', -0.2854936267430652),\n",
       " ('wa', -0.24823294960660597),\n",
       " ('play', -0.19756182388279828),\n",
       " ('like', -0.19745195146128525),\n",
       " ('get', -0.1365101358108829),\n",
       " ('good', -0.1336829690431238),\n",
       " ('realli', -0.1332893952307092),\n",
       " ('http', -0.12723128595826685),\n",
       " ('com', -0.12441654130809542),\n",
       " ('love', -0.12105096966269653),\n",
       " ('one', -0.11694487446881702),\n",
       " ('pretti', -0.11011948854658835),\n",
       " ('think', -0.10930478490257456),\n",
       " ('could', -0.0963341831145998),\n",
       " ('look', -0.09218571441498274),\n",
       " ('word', 0.09137461162394278),\n",
       " ('fuck', -0.0895560142580608),\n",
       " ('much', -0.085502691727868),\n",
       " ('work', -0.08501338070393681)]"
      ]
     },
     "execution_count": 431,
     "metadata": {},
     "output_type": "execute_result"
    }
   ],
   "source": [
    "# Printing the best features and their strength\n",
    "features_strength = zip(X_vg_train_vect.columns, log.coef_[0]);\n",
    "print('Video Game Title to Score Predictors')\n",
    "sorted(features_strength, key=lambda x: abs(x[1]), reverse=True)[:20]"
   ]
  },
  {
   "cell_type": "markdown",
   "metadata": {},
   "source": [
    "#### Predicting scores with post text"
   ]
  },
  {
   "cell_type": "code",
   "execution_count": 391,
   "metadata": {},
   "outputs": [],
   "source": [
    "# Preparing the pipeline and gridsearch\n",
    "steps = [\n",
    "    ('tfidf', TfidfVectorizer(ngram_range=(1,2), min_df=4)),\n",
    "    ('log', LogisticRegression(multi_class='multinomial', solver='lbfgs'))\n",
    "]\n",
    "\n",
    "pipeline = Pipeline(steps=steps)\n",
    "\n",
    "grid_params = {\n",
    "    'log__C': [0.1, 0.5, 1, 5, 10, 50, 100]\n",
    "}"
   ]
  },
  {
   "cell_type": "code",
   "execution_count": 392,
   "metadata": {},
   "outputs": [
    {
     "name": "stdout",
     "output_type": "stream",
     "text": [
      "Fitting 5 folds for each of 7 candidates, totalling 35 fits\n"
     ]
    },
    {
     "name": "stderr",
     "output_type": "stream",
     "text": [
      "[Parallel(n_jobs=1)]: Done  35 out of  35 | elapsed:   33.1s finished\n"
     ]
    },
    {
     "name": "stdout",
     "output_type": "stream",
     "text": [
      "0.5877862595419847\n",
      "Fitting 5 folds for each of 7 candidates, totalling 35 fits\n",
      "0.49921507064364207\n"
     ]
    },
    {
     "name": "stderr",
     "output_type": "stream",
     "text": [
      "[Parallel(n_jobs=1)]: Done  35 out of  35 | elapsed:    4.6s finished\n"
     ]
    }
   ],
   "source": [
    "# Searching over the pipeline\n",
    "gs = GridSearchCV(pipeline, grid_params, verbose=1, cv=5)\n",
    "bg_results = gs.fit(X_bg_train['selftext'], y_bg_train)\n",
    "print(bg_results.best_score_)\n",
    "vg_results = gs.fit(X_vg_train['selftext'], y_vg_train)\n",
    "print(vg_results.best_score_)"
   ]
  },
  {
   "cell_type": "code",
   "execution_count": 393,
   "metadata": {},
   "outputs": [
    {
     "data": {
      "text/plain": [
       "({'log__C': 0.1}, {'log__C': 0.1})"
      ]
     },
     "execution_count": 393,
     "metadata": {},
     "output_type": "execute_result"
    }
   ],
   "source": [
    "bg_results.best_params_, vg_results.best_params_"
   ]
  },
  {
   "cell_type": "code",
   "execution_count": 420,
   "metadata": {},
   "outputs": [
    {
     "name": "stdout",
     "output_type": "stream",
     "text": [
      "Board Game Posts Score 0.5593705293276109\n"
     ]
    }
   ],
   "source": [
    "# Model using the text of the board game posts\n",
    "tfidf = TfidfVectorizer(ngram_range=(1, 2), min_df=4)\n",
    "X_bg_train_vect = pd.DataFrame(tfidf.fit_transform(X_bg_train['selftext']).todense(),\n",
    "                               columns=tfidf.get_feature_names(), index=X_bg_train.index)\n",
    "X_bg_test_vect = pd.DataFrame(tfidf.transform(X_bg_test['selftext']).todense(), columns=tfidf.get_feature_names(),\n",
    "                              index=X_bg_test.index)\n",
    "\n",
    "log = LogisticRegression(C=.1, multi_class='multinomial', solver='lbfgs')\n",
    "log.fit(X_bg_train_vect, y_bg_train)\n",
    "print(\"Board Game Posts Score\", log.score(X_bg_test_vect, y_bg_test))"
   ]
  },
  {
   "cell_type": "code",
   "execution_count": 430,
   "metadata": {},
   "outputs": [
    {
     "name": "stdout",
     "output_type": "stream",
     "text": [
      "Board Game Posts to Score Predictors\n"
     ]
    },
    {
     "data": {
      "text/plain": [
       "[('amaz wish', -0.2904257595616866),\n",
       " ('adventur also', -0.2854936267430652),\n",
       " ('amp good', -0.24823294960660597),\n",
       " ('also includ', -0.19756182388279828),\n",
       " ('allur', -0.19745195146128525),\n",
       " ('age board', -0.1365101358108829),\n",
       " ('aggress', -0.1336829690431238),\n",
       " ('also seen', -0.1332893952307092),\n",
       " ('agreement', -0.12723128595826685),\n",
       " ('action take', -0.12441654130809542),\n",
       " ('almost none', -0.12105096966269653),\n",
       " ('also close', -0.11694487446881702),\n",
       " ('also offer', -0.11011948854658835),\n",
       " ('amazon http', -0.10930478490257456),\n",
       " ('actual care', -0.0963341831145998),\n",
       " ('almost got', -0.09218571441498274),\n",
       " ('amp utm', 0.09137461162394278),\n",
       " ('advanc civil', -0.0895560142580608),\n",
       " ('alreadi think', -0.085502691727868),\n",
       " ('amp ved', -0.08501338070393681)]"
      ]
     },
     "execution_count": 430,
     "metadata": {},
     "output_type": "execute_result"
    }
   ],
   "source": [
    "# Printing the best features and their strength\n",
    "features_strength = zip(X_bg_train_vect.columns, log.coef_[0]);\n",
    "print('Board Game Posts to Score Predictors')\n",
    "sorted(features_strength, key=lambda x: abs(x[1]), reverse=True)[:20]"
   ]
  },
  {
   "cell_type": "code",
   "execution_count": 422,
   "metadata": {},
   "outputs": [
    {
     "name": "stdout",
     "output_type": "stream",
     "text": [
      "Video Game Posts Score 0.49921507064364207\n"
     ]
    }
   ],
   "source": [
    "# Model using the text of the video game posts\n",
    "tfidf = TfidfVectorizer(ngram_range=(1, 2), min_df=4)\n",
    "X_vg_train_vect = pd.DataFrame(tfidf.fit_transform(X_vg_train['selftext']).todense(), columns=tfidf.get_feature_names(),\n",
    "                               index=X_vg_train.index)\n",
    "X_vg_test_vect = pd.DataFrame(tfidf.transform(X_vg_test['selftext']).todense(), columns=tfidf.get_feature_names(),\n",
    "                              index=X_vg_test.index)\n",
    "\n",
    "log = LogisticRegression(C=.1, multi_class='multinomial', solver='lbfgs')\n",
    "log.fit(X_vg_train_vect, y_vg_train)\n",
    "print(\"Video Game Posts Score\", log.score(X_vg_test_vect, y_vg_test))"
   ]
  },
  {
   "cell_type": "code",
   "execution_count": 429,
   "metadata": {
    "scrolled": true
   },
   "outputs": [
    {
     "name": "stdout",
     "output_type": "stream",
     "text": [
      "Video Game Posts to Score Predictors\n"
     ]
    },
    {
     "data": {
      "text/plain": [
       "[('thi', -0.2904257595616866),\n",
       " ('game', -0.2854936267430652),\n",
       " ('wa', -0.24823294960660597),\n",
       " ('play', -0.19756182388279828),\n",
       " ('like', -0.19745195146128525),\n",
       " ('get', -0.1365101358108829),\n",
       " ('good', -0.1336829690431238),\n",
       " ('realli', -0.1332893952307092),\n",
       " ('http', -0.12723128595826685),\n",
       " ('com', -0.12441654130809542),\n",
       " ('love', -0.12105096966269653),\n",
       " ('one', -0.11694487446881702),\n",
       " ('pretti', -0.11011948854658835),\n",
       " ('think', -0.10930478490257456),\n",
       " ('could', -0.0963341831145998),\n",
       " ('look', -0.09218571441498274),\n",
       " ('word', 0.09137461162394278),\n",
       " ('fuck', -0.0895560142580608),\n",
       " ('much', -0.085502691727868),\n",
       " ('work', -0.08501338070393681)]"
      ]
     },
     "execution_count": 429,
     "metadata": {},
     "output_type": "execute_result"
    }
   ],
   "source": [
    "# Printing the best features and their strength\n",
    "features_strength = zip(X_vg_train_vect.columns, log.coef_[0]);\n",
    "print('Video Game Posts to Score Predictors')\n",
    "sorted(features_strength, key=lambda x: abs(x[1]), reverse=True)[:20]"
   ]
  },
  {
   "cell_type": "markdown",
   "metadata": {},
   "source": [
    "#### Predicting scores with comments"
   ]
  },
  {
   "cell_type": "code",
   "execution_count": 398,
   "metadata": {},
   "outputs": [],
   "source": [
    "# Preparing the pipeline and gridsearch\n",
    "steps = [\n",
    "    ('tfidf', TfidfVectorizer(ngram_range=(1,2), min_df=5)),\n",
    "    ('log', LogisticRegression(multi_class='multinomial', solver='lbfgs'))\n",
    "]\n",
    "\n",
    "pipeline = Pipeline(steps=steps)\n",
    "\n",
    "grid_params = {\n",
    "    'log__C': [0.1, 0.5, 1, 5, 10, 50, 100]\n",
    "}"
   ]
  },
  {
   "cell_type": "code",
   "execution_count": 399,
   "metadata": {},
   "outputs": [
    {
     "name": "stdout",
     "output_type": "stream",
     "text": [
      "Fitting 5 folds for each of 7 candidates, totalling 35 fits\n"
     ]
    },
    {
     "name": "stderr",
     "output_type": "stream",
     "text": [
      "[Parallel(n_jobs=1)]: Done  35 out of  35 | elapsed:  4.2min finished\n"
     ]
    },
    {
     "name": "stdout",
     "output_type": "stream",
     "text": [
      "0.7018129770992366\n",
      "Fitting 5 folds for each of 7 candidates, totalling 35 fits\n",
      "0.5818942961800104\n"
     ]
    },
    {
     "name": "stderr",
     "output_type": "stream",
     "text": [
      "[Parallel(n_jobs=1)]: Done  35 out of  35 | elapsed:    6.2s finished\n"
     ]
    }
   ],
   "source": [
    "# Searching over the pipeline\n",
    "gs = GridSearchCV(pipeline, grid_params, verbose=1, cv=5)\n",
    "bg_results = gs.fit(X_bg_train['comments'], y_bg_train)\n",
    "print(bg_results.best_score_)\n",
    "vg_results = gs.fit(X_vg_train['comments'], y_vg_train)\n",
    "print(vg_results.best_score_)"
   ]
  },
  {
   "cell_type": "code",
   "execution_count": 400,
   "metadata": {},
   "outputs": [
    {
     "data": {
      "text/plain": [
       "({'log__C': 1}, {'log__C': 1})"
      ]
     },
     "execution_count": 400,
     "metadata": {},
     "output_type": "execute_result"
    }
   ],
   "source": [
    "bg_results.best_params_, vg_results.best_params_"
   ]
  },
  {
   "cell_type": "code",
   "execution_count": 423,
   "metadata": {},
   "outputs": [
    {
     "name": "stdout",
     "output_type": "stream",
     "text": [
      "Board Game Comments Score 0.6323319027181689\n"
     ]
    }
   ],
   "source": [
    "# Model using the comments of the board game posts\n",
    "tfidf = TfidfVectorizer(ngram_range=(1, 2), min_df=5)\n",
    "X_bg_train_vect = pd.DataFrame(tfidf.fit_transform(X_bg_train['comments']).todense(), columns=tfidf.get_feature_names(),\n",
    "                               index=X_bg_train.index, )\n",
    "X_bg_test_vect = pd.DataFrame(tfidf.transform(X_bg_test['comments']).todense(), columns=tfidf.get_feature_names(),\n",
    "                              index=X_bg_test.index, )\n",
    "\n",
    "log = LogisticRegression(C=.1, multi_class='multinomial', solver='lbfgs')\n",
    "log.fit(X_bg_train_vect, y_bg_train)\n",
    "print(\"Board Game Comments Score\", log.score(X_bg_test_vect, y_bg_test))"
   ]
  },
  {
   "cell_type": "code",
   "execution_count": 428,
   "metadata": {},
   "outputs": [
    {
     "name": "stdout",
     "output_type": "stream",
     "text": [
      "Board Game Comments to Score Predictors\n"
     ]
    },
    {
     "data": {
      "text/plain": [
       "[('amaz wish', -0.2904257595616866),\n",
       " ('adventur also', -0.2854936267430652),\n",
       " ('amp good', -0.24823294960660597),\n",
       " ('also includ', -0.19756182388279828),\n",
       " ('allur', -0.19745195146128525),\n",
       " ('age board', -0.1365101358108829),\n",
       " ('aggress', -0.1336829690431238),\n",
       " ('also seen', -0.1332893952307092),\n",
       " ('agreement', -0.12723128595826685),\n",
       " ('action take', -0.12441654130809542),\n",
       " ('almost none', -0.12105096966269653),\n",
       " ('also close', -0.11694487446881702),\n",
       " ('also offer', -0.11011948854658835),\n",
       " ('amazon http', -0.10930478490257456),\n",
       " ('actual care', -0.0963341831145998),\n",
       " ('almost got', -0.09218571441498274),\n",
       " ('amp utm', 0.09137461162394278),\n",
       " ('advanc civil', -0.0895560142580608),\n",
       " ('alreadi think', -0.085502691727868),\n",
       " ('amp ved', -0.08501338070393681)]"
      ]
     },
     "execution_count": 428,
     "metadata": {},
     "output_type": "execute_result"
    }
   ],
   "source": [
    "# Printing the best features and their strength\n",
    "features_strength = zip(X_bg_train_vect.columns, log.coef_[0]);\n",
    "print('Board Game Comments to Score Predictors')\n",
    "sorted(features_strength, key=lambda x: abs(x[1]), reverse=True)[:20]"
   ]
  },
  {
   "cell_type": "code",
   "execution_count": 425,
   "metadata": {},
   "outputs": [
    {
     "name": "stdout",
     "output_type": "stream",
     "text": [
      "Video Game Comments Score 0.5839874411302983\n"
     ]
    }
   ],
   "source": [
    "# Model using the comments of the video game posts\n",
    "tfidf = TfidfVectorizer(ngram_range=(1, 2), min_df=4)\n",
    "X_vg_train_vect = pd.DataFrame(tfidf.fit_transform(X_vg_train['comments']).todense(), columns=tfidf.get_feature_names(),\n",
    "                               index=X_vg_train.index)\n",
    "X_vg_test_vect = pd.DataFrame(tfidf.transform(X_vg_test['comments']).todense(), columns=tfidf.get_feature_names(),\n",
    "                              index=X_vg_test.index)\n",
    "\n",
    "log = LogisticRegression(C=.1, multi_class='multinomial', solver='lbfgs')\n",
    "log.fit(X_vg_train_vect, y_vg_train)\n",
    "print(\"Video Game Comments Score\", log.score(X_vg_test_vect, y_vg_test))"
   ]
  },
  {
   "cell_type": "code",
   "execution_count": 427,
   "metadata": {},
   "outputs": [
    {
     "name": "stdout",
     "output_type": "stream",
     "text": [
      "Video Game Comments to Score Predictors\n"
     ]
    },
    {
     "data": {
      "text/plain": [
       "[('thi', -0.2904257595616866),\n",
       " ('game', -0.2854936267430652),\n",
       " ('wa', -0.24823294960660597),\n",
       " ('play', -0.19756182388279828),\n",
       " ('like', -0.19745195146128525),\n",
       " ('get', -0.1365101358108829),\n",
       " ('good', -0.1336829690431238),\n",
       " ('realli', -0.1332893952307092),\n",
       " ('http', -0.12723128595826685),\n",
       " ('com', -0.12441654130809542),\n",
       " ('love', -0.12105096966269653),\n",
       " ('one', -0.11694487446881702),\n",
       " ('pretti', -0.11011948854658835),\n",
       " ('think', -0.10930478490257456),\n",
       " ('could', -0.0963341831145998),\n",
       " ('look', -0.09218571441498274),\n",
       " ('word', 0.09137461162394278),\n",
       " ('fuck', -0.0895560142580608),\n",
       " ('much', -0.085502691727868),\n",
       " ('work', -0.08501338070393681)]"
      ]
     },
     "execution_count": 427,
     "metadata": {},
     "output_type": "execute_result"
    }
   ],
   "source": [
    "# Printing the best features and their strength\n",
    "features_strength = zip(X_vg_train_vect.columns, log.coef_[0])\n",
    "print('Video Game Comments to Score Predictors')\n",
    "sorted(features_strength, key=lambda x: abs(x[1]), reverse=True)[:20]"
   ]
  }
 ],
 "metadata": {
  "kernelspec": {
   "display_name": "Python [conda env:dsi]",
   "language": "python",
   "name": "conda-env-dsi-py"
  },
  "language_info": {
   "codemirror_mode": {
    "name": "ipython",
    "version": 3
   },
   "file_extension": ".py",
   "mimetype": "text/x-python",
   "name": "python",
   "nbconvert_exporter": "python",
   "pygments_lexer": "ipython3",
   "version": "3.6.5"
  }
 },
 "nbformat": 4,
 "nbformat_minor": 2
}
